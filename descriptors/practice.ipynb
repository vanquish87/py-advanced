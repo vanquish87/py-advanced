{
 "cells": [
  {
   "cell_type": "markdown",
   "metadata": {},
   "source": [
    "Lets see"
   ]
  },
  {
   "cell_type": "code",
   "execution_count": 1,
   "metadata": {},
   "outputs": [],
   "source": [
    "class Person:\n",
    "    def __init__(self, name, age, bmi):\n",
    "        self.name = name\n",
    "        self.age = age\n",
    "        self.bmi = bmi\n",
    "\n",
    "        # this checks the type ie, list, str, tuple..\n",
    "        if isinstance(self.name, str):\n",
    "            print(self.name)\n",
    "        else:\n",
    "            raise ValueError('Name can only be string')\n",
    "\n",
    "        if self.bmi < 0:\n",
    "            raise ValueError('BMI cannot be less than zero')\n",
    "\n",
    "    def __str__(self):\n",
    "        return f'{self.name} has an age of {self.age} n BMI of {self.bmi}'"
   ]
  },
  {
   "cell_type": "code",
   "execution_count": 2,
   "metadata": {},
   "outputs": [
    {
     "name": "stdout",
     "output_type": "stream",
     "text": [
      "Jasmeet\n",
      "Jasmeet has an age of 34 n BMI of 22\n"
     ]
    }
   ],
   "source": [
    "jas =Person('Jasmeet', 34, 22)\n",
    "\n",
    "print(jas)"
   ]
  },
  {
   "cell_type": "markdown",
   "metadata": {},
   "source": [
    "This will throw a Valuerror"
   ]
  },
  {
   "cell_type": "code",
   "execution_count": 3,
   "metadata": {},
   "outputs": [],
   "source": [
    "# harry =Person('Harry', 14, -25)\n",
    "\n",
    "# print(harry)"
   ]
  },
  {
   "cell_type": "code",
   "execution_count": 4,
   "metadata": {},
   "outputs": [],
   "source": [
    "# john =Person(2, 14, 25)\n",
    "\n",
    "# print(john)"
   ]
  },
  {
   "cell_type": "markdown",
   "metadata": {},
   "source": [
    "Even though filter is there still you can give - BMI ..\n",
    "Because Object is already initialized"
   ]
  },
  {
   "cell_type": "code",
   "execution_count": 5,
   "metadata": {},
   "outputs": [
    {
     "name": "stdout",
     "output_type": "stream",
     "text": [
      "Jasmeet has an age of 34 n BMI of -20\n"
     ]
    }
   ],
   "source": [
    "jas.bmi = -20\n",
    "print(jas)"
   ]
  },
  {
   "cell_type": "code",
   "execution_count": 6,
   "metadata": {},
   "outputs": [],
   "source": [
    "class Descriptors:\n",
    "    def __init__(self):\n",
    "        self.__bmi = 0\n",
    "    \n",
    "    def __get__(self, instance, owner):\n",
    "        return self.__bmi\n",
    "\n",
    "    def __set__(self, instance, value):\n",
    "        if isinstance(value, int):\n",
    "            print(value)\n",
    "        else:\n",
    "            raise TypeError('BMI can only be an integer')\n",
    "\n",
    "        if value < 0:\n",
    "            raise ValueError('BMI cannot be less than zero')\n",
    "        \n",
    "        self.__bmi = value\n",
    "\n",
    "    def __delete__(self, instance):\n",
    "        del self.__bmi\n"
   ]
  }
 ],
 "metadata": {
  "kernelspec": {
   "display_name": "Python 3",
   "language": "python",
   "name": "python3"
  },
  "language_info": {
   "codemirror_mode": {
    "name": "ipython",
    "version": 3
   },
   "file_extension": ".py",
   "mimetype": "text/x-python",
   "name": "python",
   "nbconvert_exporter": "python",
   "pygments_lexer": "ipython3",
   "version": "3.8.13"
  },
  "orig_nbformat": 4,
  "vscode": {
   "interpreter": {
    "hash": "9ac03a0a6051494cc606d484d27d20fce22fb7b4d169f583271e11d5ba46a56e"
   }
  }
 },
 "nbformat": 4,
 "nbformat_minor": 2
}
