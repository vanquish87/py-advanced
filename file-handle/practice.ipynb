{
 "cells": [
  {
   "cell_type": "markdown",
   "metadata": {},
   "source": [
    "File CRUDS n more"
   ]
  },
  {
   "cell_type": "code",
   "execution_count": 56,
   "metadata": {},
   "outputs": [],
   "source": [
    "path = 'happy.txt'\n",
    " \n",
    "file = open(path, 'w+')"
   ]
  },
  {
   "cell_type": "markdown",
   "metadata": {},
   "source": [
    "r, w - overwrite existing, "
   ]
  },
  {
   "cell_type": "code",
   "execution_count": 59,
   "metadata": {},
   "outputs": [
    {
     "data": {
      "text/plain": [
       "19"
      ]
     },
     "execution_count": 59,
     "metadata": {},
     "output_type": "execute_result"
    }
   ],
   "source": [
    "path = 'asd.csv'\n",
    "file1 = open(path, 'w')\n",
    "file1.write('we are happy souls!')"
   ]
  },
  {
   "cell_type": "code",
   "execution_count": 60,
   "metadata": {},
   "outputs": [],
   "source": [
    "import os\n",
    "\n",
    "os.rename('asd.csv', 'fun.csv')"
   ]
  },
  {
   "cell_type": "markdown",
   "metadata": {},
   "source": [
    "Using append mode to add more data than overwrite"
   ]
  },
  {
   "cell_type": "code",
   "execution_count": 62,
   "metadata": {},
   "outputs": [
    {
     "data": {
      "text/plain": [
       "24"
      ]
     },
     "execution_count": 62,
     "metadata": {},
     "output_type": "execute_result"
    }
   ],
   "source": [
    "file1 = open('fun.csv', 'a')\n",
    "file1.write('\\nlet me write once again')"
   ]
  },
  {
   "cell_type": "code",
   "execution_count": 64,
   "metadata": {},
   "outputs": [],
   "source": [
    "import csv\n",
    "\n",
    "header = ['name', 'area', 'country_code2', 'country_code3']\n",
    "data = [\n",
    "    ['Albania', 28748, 'AL', 'ALB'],\n",
    "    ['Algeria', 2381741, 'DZ', 'DZA'],\n",
    "    ['American Samoa', 199, 'AS', 'ASM'],\n",
    "    ['Andorra', 468, 'AD', 'AND'],\n",
    "    ['Angola', 1246700, 'AO', 'AGO']\n",
    "]\n",
    "\n",
    "with open('countries.csv', 'w', encoding='UTF8', newline='') as f:\n",
    "    writer = csv.writer(f)\n",
    "\n",
    "    # write the header\n",
    "    writer.writerow(header)\n",
    "\n",
    "    # write multiple rows\n",
    "    writer.writerows(data)\n"
   ]
  },
  {
   "cell_type": "code",
   "execution_count": 65,
   "metadata": {},
   "outputs": [],
   "source": [
    "import csv\n",
    "\n",
    "# Create a dictionary of key-value pairs\n",
    "data = {'A':42, 'B':41, 'C':40}\n",
    "\n",
    "# Open the file in writing mode (no blank lines)\n",
    "with open('my_file.csv', 'w', newline='') as f:\n",
    "\n",
    "    # Create a CSV writer object\n",
    "    writer = csv.writer(f)\n",
    "\n",
    "    # Write one key-value tuple per row\n",
    "    for row in data.items():\n",
    "        writer.writerow(row)"
   ]
  },
  {
   "cell_type": "code",
   "execution_count": 66,
   "metadata": {},
   "outputs": [],
   "source": [
    "import csv\n",
    "\n",
    "field_names = ['No', 'Company', 'Car Model']\n",
    "\n",
    "cars = [\n",
    "{'No': 1, 'Company': 'Ferrari', 'Car Model': '488 GTB'},\n",
    "{'No': 2, 'Company': 'Porsche', 'Car Model': '918 Spyder'},\n",
    "{'No': 3, 'Company': 'Bugatti', 'Car Model': 'La Voiture Noire'},\n",
    "{'No': 4, 'Company': 'Rolls Royce', 'Car Model': 'Phantom'},\n",
    "{'No': 5, 'Company': 'BMW', 'Car Model': 'BMW X7'},\n",
    "]\n",
    "\n",
    "with open('Names.csv', 'w') as csvfile:\n",
    "\twriter = csv.DictWriter(csvfile, fieldnames = field_names)\n",
    "\twriter.writeheader()\n",
    "\twriter.writerows(cars)\n"
   ]
  }
 ],
 "metadata": {
  "kernelspec": {
   "display_name": "Python 3",
   "language": "python",
   "name": "python3"
  },
  "language_info": {
   "codemirror_mode": {
    "name": "ipython",
    "version": 3
   },
   "file_extension": ".py",
   "mimetype": "text/x-python",
   "name": "python",
   "nbconvert_exporter": "python",
   "pygments_lexer": "ipython3",
   "version": "3.8.13"
  },
  "orig_nbformat": 4,
  "vscode": {
   "interpreter": {
    "hash": "9ac03a0a6051494cc606d484d27d20fce22fb7b4d169f583271e11d5ba46a56e"
   }
  }
 },
 "nbformat": 4,
 "nbformat_minor": 2
}
